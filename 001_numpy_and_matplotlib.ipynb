{
  "nbformat": 4,
  "nbformat_minor": 0,
  "metadata": {
    "colab": {
      "name": "001_numpy_and_matplotlib.ipynb",
      "provenance": [],
      "collapsed_sections": [],
      "toc_visible": true,
      "authorship_tag": "ABX9TyPKSaMb6phFTq9qTRtmKH/F",
      "include_colab_link": true
    },
    "kernelspec": {
      "name": "python3",
      "display_name": "Python 3"
    },
    "language_info": {
      "name": "python"
    }
  },
  "cells": [
    {
      "cell_type": "markdown",
      "metadata": {
        "id": "view-in-github",
        "colab_type": "text"
      },
      "source": [
        "<a href=\"https://colab.research.google.com/github/irishNoah/Deep-Learning-Study/blob/main/001_numpy_and_matplotlib.ipynb\" target=\"_parent\"><img src=\"https://colab.research.google.com/assets/colab-badge.svg\" alt=\"Open In Colab\"/></a>"
      ]
    },
    {
      "cell_type": "markdown",
      "source": [
        "# Numpy"
      ],
      "metadata": {
        "id": "IcmO9rJt1aIl"
      }
    },
    {
      "cell_type": "markdown",
      "source": [
        "## Numpy 가져오기"
      ],
      "metadata": {
        "id": "yDAuFKXZ1e5P"
      }
    },
    {
      "cell_type": "code",
      "source": [
        "import numpy as np"
      ],
      "metadata": {
        "id": "K-88vt7U1gyY"
      },
      "execution_count": 1,
      "outputs": []
    },
    {
      "cell_type": "markdown",
      "source": [
        "## Numpy 배열 생성하기"
      ],
      "metadata": {
        "id": "cCyvcYZN1pTU"
      }
    },
    {
      "cell_type": "markdown",
      "source": [
        "numpy의 array()는 파이썬의 리스트를 인수로 받아 넘파이 라이브러리가 제공하는 특수한 형태의 배열(numpy.ndarray)을 반환한다."
      ],
      "metadata": {
        "id": "jf-QnhPK1yYP"
      }
    },
    {
      "cell_type": "code",
      "source": [
        "x = np.array([1.0, 2.0, 3.0])\n",
        "\n",
        "print(x)\n",
        "type(x)"
      ],
      "metadata": {
        "colab": {
          "base_uri": "https://localhost:8080/"
        },
        "id": "wg-i_pLg1tAo",
        "outputId": "06005ee5-3f9b-4ee3-bd73-c25acd07e8ad"
      },
      "execution_count": 3,
      "outputs": [
        {
          "output_type": "stream",
          "name": "stdout",
          "text": [
            "[1. 2. 3.]\n"
          ]
        },
        {
          "output_type": "execute_result",
          "data": {
            "text/plain": [
              "numpy.ndarray"
            ]
          },
          "metadata": {},
          "execution_count": 3
        }
      ]
    },
    {
      "cell_type": "markdown",
      "source": [
        "## Numpy의 산술 연산"
      ],
      "metadata": {
        "id": "yKI18Edr2Hwk"
      }
    },
    {
      "cell_type": "markdown",
      "source": [
        "아래 블록의 코드는 두 넘파이 배열의 산술 연산 수행 예이다.\n",
        "\n",
        "주의할 점은 x, y의 원소 수가 같다는 것이다.\n",
        "만약 원소 수가 다르면 오류가 발생하기 때문에 원소 수 맞추기는 중요하다."
      ],
      "metadata": {
        "id": "mr5FFOWd2llc"
      }
    },
    {
      "cell_type": "code",
      "source": [
        "x = np.array([1.0, 2.0, 3.0])\n",
        "y = np.array([2.0, 4.0, 6.0])\n",
        "\n",
        "print(x+y)\n",
        "\n",
        "print(x-y)\n",
        "\n",
        "print(x*y)\n",
        "\n",
        "print(x/y)"
      ],
      "metadata": {
        "colab": {
          "base_uri": "https://localhost:8080/"
        },
        "id": "E8_0a-Pi2Kek",
        "outputId": "6ac91697-22ed-463b-ac90-129de0aebbb5"
      },
      "execution_count": 4,
      "outputs": [
        {
          "output_type": "stream",
          "name": "stdout",
          "text": [
            "[3. 6. 9.]\n",
            "[-1. -2. -3.]\n",
            "[ 2.  8. 18.]\n",
            "[0.5 0.5 0.5]\n"
          ]
        }
      ]
    },
    {
      "cell_type": "markdown",
      "source": [
        "## Numpy의 N차원 배열"
      ],
      "metadata": {
        "id": "tqKowAjA228T"
      }
    },
    {
      "cell_type": "markdown",
      "source": [
        "넘파이는 다차원 배열도 작성할 수 있다.\n",
        "\n",
        "행렬의 형상은 shape으로,\n",
        "행렬에 담긴 원소의 자료형은 dtype으로 알 수 있다."
      ],
      "metadata": {
        "id": "0L8Nwl5z34gX"
      }
    },
    {
      "cell_type": "code",
      "source": [
        "A = np.array([[1, 2], [3, 4]])\n",
        "\n",
        "print(A)\n",
        "print()\n",
        "\n",
        "print(A.shape)\n",
        "print()\n",
        "\n",
        "print(A.dtype)"
      ],
      "metadata": {
        "colab": {
          "base_uri": "https://localhost:8080/"
        },
        "id": "rIVdP_Wa3dYE",
        "outputId": "5c838acd-cb1e-47ab-be91-f8ea384a9aa1"
      },
      "execution_count": 7,
      "outputs": [
        {
          "output_type": "stream",
          "name": "stdout",
          "text": [
            "[[1 2]\n",
            " [3 4]]\n",
            "\n",
            "(2, 2)\n",
            "\n",
            "int64\n"
          ]
        }
      ]
    },
    {
      "cell_type": "markdown",
      "source": [
        "형상이 같은 행렬이면 행렬의 산술 연산도 대응하는 원소별로 계산됨."
      ],
      "metadata": {
        "id": "WmT1irhF4CpD"
      }
    },
    {
      "cell_type": "code",
      "source": [
        "B = np.array([[3, 0], [0, 6]])\n",
        "\n",
        "print(A + B)\n",
        "print()\n",
        "\n",
        "print(A * B)\n",
        "print()"
      ],
      "metadata": {
        "colab": {
          "base_uri": "https://localhost:8080/"
        },
        "id": "vAbmVHVb4C8f",
        "outputId": "ed975517-b326-4302-9d1d-0f5c148f9d86"
      },
      "execution_count": 8,
      "outputs": [
        {
          "output_type": "stream",
          "name": "stdout",
          "text": [
            "[[ 4  2]\n",
            " [ 3 10]]\n",
            "\n",
            "[[ 3  0]\n",
            " [ 0 24]]\n",
            "\n"
          ]
        }
      ]
    },
    {
      "cell_type": "markdown",
      "source": [
        "행렬과 스칼라값의 산술 연산"
      ],
      "metadata": {
        "id": "NcJwKojO4Vdk"
      }
    },
    {
      "cell_type": "code",
      "source": [
        "print(A)\n",
        "print()\n",
        "\n",
        "print(A * 10)"
      ],
      "metadata": {
        "colab": {
          "base_uri": "https://localhost:8080/"
        },
        "id": "8aFaFEsh4YnS",
        "outputId": "46074c67-b27e-4216-acc3-30c5bcfc251c"
      },
      "execution_count": 9,
      "outputs": [
        {
          "output_type": "stream",
          "name": "stdout",
          "text": [
            "[[1 2]\n",
            " [3 4]]\n",
            "\n",
            "[[10 20]\n",
            " [30 40]]\n"
          ]
        }
      ]
    },
    {
      "cell_type": "markdown",
      "source": [
        "수학에서는 1차원 배열은 벡터, 2차원 배열은 행렬이라고 부르며, 그 이상은 '다차원 배열'이라고 한다."
      ],
      "metadata": {
        "id": "EBGBbRMq4e4A"
      }
    },
    {
      "cell_type": "markdown",
      "source": [
        "## 브로드캐스트"
      ],
      "metadata": {
        "id": "VO1Dw5Gp4nnt"
      }
    },
    {
      "cell_type": "markdown",
      "source": [
        "넘파이에서는 형상이 다른 배열끼리도 계산할 수 있다. 이 똑똑한 기능을 '브로드캐스트'라고 한다.\n",
        "\n",
        "자세한 내용은 다음 링크를 참조해보자\n",
        "> https://blog.naver.com/PostView.naver?blogId=dhtjdqls2&logNo=222178947654&redirect=Dlog&widgetTypeCall=true&directAccess=false"
      ],
      "metadata": {
        "id": "nkvMh3Wi4qCq"
      }
    },
    {
      "cell_type": "markdown",
      "source": [
        "다른 예를 살펴보자.\n",
        "이번에도 A와 B의 형상이 다름에도 불구하고 브로드캐스트가 진행된 것을 알 수 있다.\n",
        "\n",
        "위와 같이 넘파이가 제공하는 브로드캐스트 기능 덕분에 형상이 다른 배열끼리의 연산을 스마트하게 할 수 있다."
      ],
      "metadata": {
        "id": "RsZWcPYQ7ZCe"
      }
    },
    {
      "cell_type": "code",
      "source": [
        "A = np.array([[1, 2], [3, 4]])\n",
        "B = np.array([10, 20])\n",
        "\n",
        "print(A * B)"
      ],
      "metadata": {
        "colab": {
          "base_uri": "https://localhost:8080/"
        },
        "id": "wmQECF517a0G",
        "outputId": "888b0ff2-1332-442a-9813-f87355eda3b6"
      },
      "execution_count": 12,
      "outputs": [
        {
          "output_type": "stream",
          "name": "stdout",
          "text": [
            "[[10 40]\n",
            " [30 80]]\n"
          ]
        }
      ]
    },
    {
      "cell_type": "markdown",
      "source": [
        "## 원소 접근"
      ],
      "metadata": {
        "id": "5VAG2VEW8Bzs"
      }
    },
    {
      "cell_type": "code",
      "source": [
        "X = np.array([[51, 55], [14, 19], [0, 4]])\n",
        "\n",
        "print(X)\n",
        "print()\n",
        "\n",
        "print(X[0])\n",
        "print()\n",
        "\n",
        "print(X[0][1])"
      ],
      "metadata": {
        "colab": {
          "base_uri": "https://localhost:8080/"
        },
        "id": "4FDbZpMU8Ewa",
        "outputId": "77587a77-551d-4fad-a7da-2b9b33bb2505"
      },
      "execution_count": 13,
      "outputs": [
        {
          "output_type": "stream",
          "name": "stdout",
          "text": [
            "[[51 55]\n",
            " [14 19]\n",
            " [ 0  4]]\n",
            "\n",
            "[51 55]\n",
            "\n",
            "55\n"
          ]
        }
      ]
    },
    {
      "cell_type": "markdown",
      "source": [
        "for문을 이용해서 각 원소에 접근할 수도 있음"
      ],
      "metadata": {
        "id": "pYa5ILBj8VjQ"
      }
    },
    {
      "cell_type": "code",
      "source": [
        "for row in X:\n",
        "    print(row)"
      ],
      "metadata": {
        "colab": {
          "base_uri": "https://localhost:8080/"
        },
        "id": "IaAx0ps08XtF",
        "outputId": "fcc419a5-3e5d-4198-8373-0c137b4ff11c"
      },
      "execution_count": 14,
      "outputs": [
        {
          "output_type": "stream",
          "name": "stdout",
          "text": [
            "[51 55]\n",
            "[14 19]\n",
            "[0 4]\n"
          ]
        }
      ]
    },
    {
      "cell_type": "markdown",
      "source": [
        "인덱스를 배열로 지정해 한 번에 여러 원소에 접근할 수도 있음"
      ],
      "metadata": {
        "id": "FiBTA1Z78fLh"
      }
    },
    {
      "cell_type": "code",
      "source": [
        "X = X.flatten() # X를 1차원 배열로 변환(평탄화)\n",
        "print(X)\n",
        "print()\n",
        "\n",
        "print(X[np.array([0, 2, 4])]) # 인덱스가 0, 2, 4인 원소 얻기"
      ],
      "metadata": {
        "colab": {
          "base_uri": "https://localhost:8080/"
        },
        "id": "Hfd-xnjQ8kvr",
        "outputId": "c3d6d8f8-1dd6-4340-c46c-3f86f0cffe26"
      },
      "execution_count": 15,
      "outputs": [
        {
          "output_type": "stream",
          "name": "stdout",
          "text": [
            "[51 55 14 19  0  4]\n",
            "\n",
            "[51 14  0]\n"
          ]
        }
      ]
    },
    {
      "cell_type": "markdown",
      "source": [
        "특정 조건을 만족하는 원소만 얻어 오기"
      ],
      "metadata": {
        "id": "HKMuzMau_wYA"
      }
    },
    {
      "cell_type": "code",
      "source": [
        "# 넘파이 배열에 부등호 연산자를 사용한 결과는 bool 배열\n",
        "print(X > 15)\n",
        "print()\n",
        "\n",
        "print(X[X> 15])"
      ],
      "metadata": {
        "colab": {
          "base_uri": "https://localhost:8080/"
        },
        "id": "e82AosPk_1eX",
        "outputId": "55a8ddb9-fd06-413a-a0bc-796c9014433c"
      },
      "execution_count": 25,
      "outputs": [
        {
          "output_type": "stream",
          "name": "stdout",
          "text": [
            "[ True  True False  True False False]\n",
            "\n",
            "[51 55 19]\n"
          ]
        }
      ]
    },
    {
      "cell_type": "markdown",
      "source": [
        "### ravel(), reshape(), flatten()의 차이"
      ],
      "metadata": {
        "id": "dO_forhO-jzY"
      }
    },
    {
      "cell_type": "markdown",
      "source": [
        "Numpy 다차원 배열을 1차원으로 바꾸는 것을 지원하는 3개의 함수가 존재함\n",
        "\n",
        "차례대로 ravel(), reshape(), flatten()\n",
        "\n",
        "그러나 이 3개는 차이가 존재하는데 다음 코드를 보며 참고 바람"
      ],
      "metadata": {
        "id": "6V0_8ZUV9fZ1"
      }
    },
    {
      "cell_type": "code",
      "source": [
        "a1 = np.array([[1, 2], [3, 4]])\n",
        "\n",
        "a2 = a1.ravel()\n",
        "print(a2)\n",
        "print()\n",
        "\n",
        "a3 = a1.reshape(-1)\n",
        "print(a3)\n",
        "print()\n",
        "\n",
        "a4 = a1.flatten()\n",
        "print(a4)\n",
        "print()"
      ],
      "metadata": {
        "colab": {
          "base_uri": "https://localhost:8080/"
        },
        "id": "L1tb2Vaw9rTJ",
        "outputId": "1aa442cb-2dcb-41f6-d817-a0498d5db407"
      },
      "execution_count": 20,
      "outputs": [
        {
          "output_type": "stream",
          "name": "stdout",
          "text": [
            "[1 2 3 4]\n",
            "\n",
            "[1 2 3 4]\n",
            "\n",
            "[1 2 3 4]\n",
            "\n"
          ]
        }
      ]
    },
    {
      "cell_type": "markdown",
      "source": [
        "위 블록의 a1에 대하여 a2, a3, a4의 결과가 모두 동일하다.\n",
        "\n",
        "하지만 a1의 원본 겂을 바꾸면 어떻게 될까?\n",
        "\n",
        "a1의 [0][0]값을 바꾸고 a2, a3, a4를 출력했더니\n",
        "ravel(), reshpae()한 a2, a3 값은 알맞게 변경됐지만, flatten()한 값은 변경이 안된 것을 파악할 수 있다."
      ],
      "metadata": {
        "id": "gkdV2ybW-XyL"
      }
    },
    {
      "cell_type": "code",
      "source": [
        "a1[0][0] = 99\n",
        "\n",
        "print(a2)\n",
        "print()\n",
        "\n",
        "print(a3)\n",
        "print()\n",
        "\n",
        "print(a4)"
      ],
      "metadata": {
        "colab": {
          "base_uri": "https://localhost:8080/"
        },
        "id": "awa2EtLD-pHF",
        "outputId": "4649f843-4fbf-4968-fc06-35bae5b22eab"
      },
      "execution_count": 23,
      "outputs": [
        {
          "output_type": "stream",
          "name": "stdout",
          "text": [
            "[99  2  3  4]\n",
            "\n",
            "[99  2  3  4]\n",
            "\n",
            "[1 2 3 4]\n"
          ]
        }
      ]
    },
    {
      "cell_type": "markdown",
      "source": [
        "# Matplotlib"
      ],
      "metadata": {
        "id": "Ht016cnJBpRr"
      }
    },
    {
      "cell_type": "markdown",
      "source": [
        "matplotlib는 그래프를 그려주는 라이브러리이다. 이것을 사용하면 그래프 그리기와 데이터 시각화가 쉬워진다."
      ],
      "metadata": {
        "id": "euQe31mDBr8A"
      }
    },
    {
      "cell_type": "markdown",
      "source": [
        "## 단순한 그래프 그리기\n",
        "\n",
        "그래프를 그리러면 matplitlib의 pyplot 모듈을 이용한다.\n",
        "sin 함수를 그리는 예를 살펴보자"
      ],
      "metadata": {
        "id": "DTHd01QgB0xQ"
      }
    },
    {
      "cell_type": "code",
      "source": [
        "import matplotlib.pyplot as plt\n",
        "\n",
        "# 데이터 준비\n",
        "x = np.arange(0, 6, 0.1) # 0에서 6까지 0.1 간격으로 생성\n",
        "y = np.sin(x)\n",
        "\n",
        "# 그래프 그리기\n",
        "plt.plot(x, y)\n",
        "\n",
        "# 그래프 출력하기\n",
        "plt.show()"
      ],
      "metadata": {
        "colab": {
          "base_uri": "https://localhost:8080/",
          "height": 265
        },
        "id": "PXBu9lQOB9lf",
        "outputId": "471ef476-f7a4-44f2-d39e-b1afb7ace0ae"
      },
      "execution_count": 26,
      "outputs": [
        {
          "output_type": "display_data",
          "data": {
            "text/plain": [
              "<Figure size 432x288 with 1 Axes>"
            ],
            "image/png": "[encoded data removed]"
          },
          "metadata": {
            "needs_background": "light"
          }
        }
      ]
    },
    {
      "cell_type": "markdown",
      "source": [
        "## pyplot의 기능"
      ],
      "metadata": {
        "id": "qe0VuF-AClAM"
      }
    },
    {
      "cell_type": "code",
      "source": [
        "# 데이터 준비\n",
        "x = np.arange(0, 6, 0.1) # 0에서 6까지 0.1 간격으로 생성\n",
        "y1 = np.sin(x)\n",
        "y2 = np.cos(x)\n",
        "\n",
        "# 그래프 그리기\n",
        "plt.plot(x, y1, label = \"sin\")\n",
        "plt.plot(x, y2, linestyle=\"--\", label=\"cos\") # cos 함수는 점선으로 그림\n",
        "plt.xlabel(\"x\") # x축 이름\n",
        "plt.ylabel(\"y\") # y축 이름\n",
        "plt.title('sin & cos') # 제목\n",
        "plt.legend() # 범례\n",
        "plt.show()"
      ],
      "metadata": {
        "colab": {
          "base_uri": "https://localhost:8080/",
          "height": 295
        },
        "id": "Y1CSOIktCoEd",
        "outputId": "d16e4b52-5276-4113-b385-7f64363553ef"
      },
      "execution_count": 34,
      "outputs": [
        {
          "output_type": "display_data",
          "data": {
            "text/plain": [
              "<Figure size 432x288 with 1 Axes>"
            ],
            "image/png": "[encoded data removed]"
          },
          "metadata": {
            "needs_background": "light"
          }
        }
      ]
    },
    {
      "cell_type": "markdown",
      "source": [
        "## 이미지 표시하기\n",
        "\n",
        "imshow() > 이미지를 표시해주는 메소드\n",
        "\n",
        "imread() > 이미지를 읽어들이기 위한 메소드"
      ],
      "metadata": {
        "id": "y1jvlWHKEEf5"
      }
    },
    {
      "cell_type": "code",
      "source": [
        "from matplotlib.image import imread\n",
        "\n",
        "img = imread('/content/2.JPG') # 이미지 읽어오기\n",
        "\n",
        "plt.imshow(img)\n",
        "plt.show()"
      ],
      "metadata": {
        "colab": {
          "base_uri": "https://localhost:8080/",
          "height": 269
        },
        "id": "ksfWdZbWENT1",
        "outputId": "5b251ae0-c893-48a1-9998-803f340a2db3"
      },
      "execution_count": 36,
      "outputs": [
        {
          "output_type": "display_data",
          "data": {
            "text/plain": [
              "<Figure size 432x288 with 1 Axes>"
            ],
            "image/png": "[encoded data removed]"
          },
          "metadata": {
            "needs_background": "light"
          }
        }
      ]
    }
  ]
}