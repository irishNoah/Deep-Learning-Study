{
 "cells": [
  {
   "cell_type": "markdown",
   "id": "d39d4906",
   "metadata": {},
   "source": [
    "# 신경망"
   ]
  },
  {
   "cell_type": "markdown",
   "id": "cae6aa29",
   "metadata": {},
   "source": [
    "## 계단 함수 구현하기\n",
    "\n",
    "입력이 0이 넘으면 1을, 그 외에는 0을 출력"
   ]
  },
  {
   "cell_type": "markdown",
   "id": "b80e6ffc",
   "metadata": {},
   "source": [
    "아래 블럭에 있는 사용자 함수 step_function_float에서 x는 실수(부동소수점)만 받아들임.\n",
    "즉, 실수는 되지만 넘파이 배열을 인수로 넣을 수는 없음.\n",
    "예를 들어 step_function_float(3.0)은 되지만, step_function_float(np.array([1.0, 2.0]))은 안됨."
   ]
  },
  {
   "cell_type": "code",
   "execution_count": 3,
   "id": "b1192931",
   "metadata": {},
   "outputs": [],
   "source": [
    "def step_function_float(x):\n",
    "    if x > 0:\n",
    "        return 1\n",
    "\n",
    "    else:\n",
    "        return 0"
   ]
  },
  {
   "cell_type": "markdown",
   "id": "0189ae56",
   "metadata": {},
   "source": [
    "넘파이 배열도 지원하도록 수정하기 위해서는 step_function_tric과 같이 코딩을 하면 됨.\n",
    "넘파이의 편리한 트릭을 사용하여 수정하였음."
   ]
  },
  {
   "cell_type": "code",
   "execution_count": 4,
   "id": "c52a8248",
   "metadata": {},
   "outputs": [],
   "source": [
    "def step_function_tric(x):\n",
    "    y = x > 0\n",
    "    return y.astype(np.int)"
   ]
  },
  {
   "cell_type": "markdown",
   "id": "ecb1b15a",
   "metadata": {},
   "source": [
    "아래 블록처럼 넘파이 배열에 부등호 연산을 수행하면 배열의 원소 각각에 부등호 연산을 수행한 bool 배열이 생성됨.\n",
    "x의 원소 각각이 0보다 크면 True로, 이하면 False로 변환한 새로운 배열 y가 생성됨."
   ]
  },
  {
   "cell_type": "code",
   "execution_count": 5,
   "id": "3b481928",
   "metadata": {},
   "outputs": [
    {
     "name": "stdout",
     "output_type": "stream",
     "text": [
      "[-1.  1.  2.]\n",
      "\n",
      "[False  True  True]\n"
     ]
    }
   ],
   "source": [
    "import numpy as np\n",
    "x = np.array([-1.0, 1.0, 2.0])\n",
    "print(x) \n",
    "print()\n",
    "\n",
    "y = x > 0\n",
    "print(y)"
   ]
  },
  {
   "cell_type": "markdown",
   "id": "1a98c80e",
   "metadata": {},
   "source": [
    "y는 bool 배열이다.\n",
    "그러나 우리가 원하는 계단 함수는 0이나 1의 'int형'을 출력하는 함수이다. 따라서 배열 y의 원소를 bool에서 int형으로 바꿀 필요성이 있다.\n",
    "\n",
    "넘파이 배열의 자료형을 변환할 때는 astype() 메소드를 이용한다.\n",
    "또한 파이썬에서는 bool을 int로 변환하면 True는 1로, False는 0으로 변환된다.\n",
    "\n",
    "이상이 계단 함수 구현에서 사용한 넘파이의 '트릭'이었다."
   ]
  },
  {
   "cell_type": "code",
   "execution_count": 8,
   "id": "832c210c",
   "metadata": {},
   "outputs": [
    {
     "data": {
      "text/plain": [
       "array([0, 1, 1])"
      ]
     },
     "execution_count": 8,
     "metadata": {},
     "output_type": "execute_result"
    }
   ],
   "source": [
    "y = y.astype(np.int32)\n",
    "y"
   ]
  },
  {
   "cell_type": "markdown",
   "id": "80c713f4",
   "metadata": {},
   "source": [
    "### 계단 함수의 그래프"
   ]
  },
  {
   "cell_type": "code",
   "execution_count": 10,
   "id": "94557fcb",
   "metadata": {},
   "outputs": [
    {
     "data": {
      "image/png": "[encoded data removed]",
      "text/plain": [
       "<Figure size 432x288 with 1 Axes>"
      ]
     },
     "metadata": {
      "needs_background": "light"
     },
     "output_type": "display_data"
    }
   ],
   "source": [
    "import numpy as np\n",
    "import matplotlib.pylab as plt\n",
    "\n",
    "def step_function(x):\n",
    "    return np.array(x > 0, dtype = np.int32)\n",
    "\n",
    "x = np.arange(-5.0, 5.0, 0.1)\n",
    "y = step_function(x)\n",
    "plt.plot(x, y)\n",
    "plt.ylim(-0.1, 1.1) # y축의 범위 지정\n",
    "plt.show()"
   ]
  },
  {
   "cell_type": "markdown",
   "id": "458387a1",
   "metadata": {},
   "source": [
    "## 시그모이드 함수 구현하기"
   ]
  },
  {
   "cell_type": "markdown",
   "id": "d2d4a1f8",
   "metadata": {},
   "source": [
    "np.exp(-x)는 exp(-x) 수식에 해당."
   ]
  },
  {
   "cell_type": "code",
   "execution_count": 11,
   "id": "4ab664e2",
   "metadata": {},
   "outputs": [],
   "source": [
    "def sigmoid(x):\n",
    "    return 1 / (1 + np.exp(-x))"
   ]
  },
  {
   "cell_type": "markdown",
   "id": "2d6ca71f",
   "metadata": {},
   "source": [
    "sigmoid(x)가 제대로 처리하는지 확인해보기.\n",
    "\n",
    "이 함수가 넘파이 배열도 처리할 수 있는 이유는 넘파이의 브로드캐스트에 있음.\n",
    "브로드캐스트 기능이란 넘파이 배열과 스칼라값의 연산을 넘파이 배열의 원소 각각과 스칼라값의 연산으로 바꿔 수행하는 것."
   ]
  },
  {
   "cell_type": "code",
   "execution_count": 12,
   "id": "45a95601",
   "metadata": {},
   "outputs": [
    {
     "name": "stdout",
     "output_type": "stream",
     "text": [
      "[0.26894142 0.73105858 0.88079708]\n"
     ]
    }
   ],
   "source": [
    "x = np.array([-1.0, 1.0, 2.0])\n",
    "\n",
    "print(sigmoid(x))"
   ]
  },
  {
   "cell_type": "markdown",
   "id": "8680f40f",
   "metadata": {},
   "source": [
    "아래 예에서는 스칼라값 1.0과 넘파이 배열 사이에서 수치 연산(+와 /)을 해보았음.\n",
    "결과적으로 스칼라값과 넘파이 배열의 각 원소 사이에서 연산이 이뤄지고, 연산 겨려과가 넘파이 배열로 출력되었음.\n",
    "\n",
    "앞에서 구현한 sigmoid 함수에서도 np.exp(-x)가 넘파이 배열을 반환하기 때문에 1 / (1 + np.exp(-x))도 넘파이 배열의 각 원소에 연산을 수행한 결과를 내어줌."
   ]
  },
  {
   "cell_type": "code",
   "execution_count": 13,
   "id": "cceeb5c0",
   "metadata": {},
   "outputs": [
    {
     "name": "stdout",
     "output_type": "stream",
     "text": [
      "[2. 3. 4.]\n",
      "\n",
      "[1.         0.5        0.33333333]\n"
     ]
    }
   ],
   "source": [
    "t = np.array([1.0, 2.0, 3.0])\n",
    "print(1.0 + t)\n",
    "print()\n",
    "\n",
    "print(1.0 / t)"
   ]
  },
  {
   "cell_type": "markdown",
   "id": "f238f7f9",
   "metadata": {},
   "source": [
    "시그모이드 함수 그려보기"
   ]
  },
  {
   "cell_type": "code",
   "execution_count": 14,
   "id": "ff36312e",
   "metadata": {},
   "outputs": [
    {
     "data": {
      "image/png": "[encoded data removed]",
      "text/plain": [
       "<Figure size 432x288 with 1 Axes>"
      ]
     },
     "metadata": {
      "needs_background": "light"
     },
     "output_type": "display_data"
    }
   ],
   "source": [
    "x = np.arange(-5.0, 5.0, 0.1)\n",
    "y = sigmoid(x)\n",
    "plt.plot(x, y)\n",
    "plt.ylim(-0.1, 1.1) # y축 범위 지정\n",
    "plt.show()"
   ]
  },
  {
   "cell_type": "markdown",
   "id": "634152f5",
   "metadata": {},
   "source": [
    "## ReLU 함수\n",
    "최근 신경만 분야에서는 ReLU 함수를 주로 이용하고 있음.\n",
    "\n",
    "\n",
    "ReLU는 입력이 0을 넘으면 그 입력을 그대로 출력하고, 0 이하이면 0을 출력하는 함수임.\n",
    "\n",
    "\n",
    "간단한 ReLU 함수의 코드는 다음과 같음.\n",
    "여기에서는 넘파이의 maximum 함수를 사용하였음. maximum은 두 입력 중 큰 값을 선택해 반환하는 함수임.\n",
    "\n",
    "\n",
    "이번 신경망 단원에서는 앞으로 시그모이드 함수를 활성화 함수로 사용하지만, 이 책 후반부에서는 주로 ReLU 함수를 사용함."
   ]
  },
  {
   "cell_type": "code",
   "execution_count": 15,
   "id": "e6617608",
   "metadata": {},
   "outputs": [],
   "source": [
    "def relu(x):\n",
    "    return np.maximum(0, x)"
   ]
  },
  {
   "cell_type": "markdown",
   "id": "e749520c",
   "metadata": {},
   "source": [
    "## 다차원 배열의 계산"
   ]
  },
  {
   "cell_type": "markdown",
   "id": "a93b1a0b",
   "metadata": {},
   "source": [
    "### 다차원 배열"
   ]
  },
  {
   "cell_type": "markdown",
   "id": "1ba2f76e",
   "metadata": {},
   "source": [
    "넘파이를 사용해서 다차원 배열을 작성하기.\n",
    "\n",
    "1) 1차원 배열"
   ]
  },
  {
   "cell_type": "code",
   "execution_count": 16,
   "id": "231c0a0f",
   "metadata": {},
   "outputs": [
    {
     "name": "stdout",
     "output_type": "stream",
     "text": [
      "[1 2 3 4]\n",
      "1\n",
      "(4,)\n",
      "4\n"
     ]
    }
   ],
   "source": [
    "import numpy as np\n",
    "\n",
    "A = np.array([1, 2, 3, 4])\n",
    "\n",
    "print(A)\n",
    "print(np.ndim(A)) # ndim : 배열 차원 수 파악 메소드\n",
    "print(A.shape) # 배열의 형상 파악, 반환은 튜플 형식\n",
    "print(A.shape[0])"
   ]
  },
  {
   "cell_type": "markdown",
   "id": "6fbf02da",
   "metadata": {},
   "source": [
    "2) 2차원 배열"
   ]
  },
  {
   "cell_type": "code",
   "execution_count": 17,
   "id": "4a3b981b",
   "metadata": {},
   "outputs": [
    {
     "name": "stdout",
     "output_type": "stream",
     "text": [
      "[[1 2]\n",
      " [3 4]\n",
      " [5 6]]\n",
      "\n",
      "2\n",
      "\n",
      "(3, 2)\n"
     ]
    }
   ],
   "source": [
    "B = np.array([[1, 2], [3, 4], [5, 6]])\n",
    "\n",
    "print(B)\n",
    "print()\n",
    "\n",
    "print(np.ndim(B))\n",
    "print()\n",
    "\n",
    "print(B.shape)"
   ]
  },
  {
   "cell_type": "markdown",
   "id": "69ebe0d3",
   "metadata": {},
   "source": [
    "### 행렬의 곱"
   ]
  },
  {
   "cell_type": "markdown",
   "id": "37e4a4ae",
   "metadata": {},
   "source": [
    "dot() : 행렬의 곱 메소드\n",
    "\n",
    "참고로, np.dot()는 입력이 1차원 배열이면 벡터를, 2차원 배열이면 행렬 곱을 계산함.\n",
    "또한, 주의할 점은 np.dot(A, B)와 np.dot(B, A)는 다른 값이 될 수 있다는 점임.\n",
    "+나 * 등의 일반적인 연산과 달리 행렬의 곱에서는 피연산자의 순서가 다르면 결과도 달라짐."
   ]
  },
  {
   "cell_type": "code",
   "execution_count": 18,
   "id": "173a2938",
   "metadata": {},
   "outputs": [
    {
     "name": "stdout",
     "output_type": "stream",
     "text": [
      "(2, 2)\n",
      "\n",
      "(2, 2)\n",
      "\n",
      "[[19 22]\n",
      " [43 50]]\n"
     ]
    }
   ],
   "source": [
    "A = np.array([[1, 2], [3, 4]])\n",
    "print(A.shape)\n",
    "print()\n",
    "\n",
    "B = np.array([[5, 6], [7, 8]])\n",
    "print(B.shape)\n",
    "print()\n",
    "\n",
    "print(np.dot(A, B)) # dot : 행렬의 곱 메소드"
   ]
  },
  {
   "cell_type": "markdown",
   "id": "b53edaa3",
   "metadata": {},
   "source": [
    "위 행렬의 곱은 2 * 2, 즉 형상이 같은 행렬을 곱하였으나, 형상이 다른 행렬의 곱도 마찬가지의 방법으로 계산할 수 있음.\n",
    "예를 들어 2 * 3 행렬과 3 * 2 행렬의 곱을 구현하면 다음 모습과 같음."
   ]
  },
  {
   "cell_type": "code",
   "execution_count": 19,
   "id": "434e954d",
   "metadata": {},
   "outputs": [
    {
     "name": "stdout",
     "output_type": "stream",
     "text": [
      "(3, 2)\n",
      "\n",
      "(2,)\n",
      "\n",
      "[23 53 83]\n"
     ]
    }
   ],
   "source": [
    "A = np.array([[1, 2], [3, 4], [5, 6]])\n",
    "print(A.shape); print();\n",
    "\n",
    "B = np.array([7, 8])\n",
    "print(B.shape); print();\n",
    "\n",
    "print(np.dot(A, B))"
   ]
  },
  {
   "cell_type": "markdown",
   "id": "3cb1eb2e",
   "metadata": {},
   "source": [
    "## 3층 신경망 구현하기"
   ]
  },
  {
   "cell_type": "markdown",
   "id": "34ad2e32",
   "metadata": {},
   "source": [
    "### 각 층의 신호 전달 구현하기"
   ]
  },
  {
   "cell_type": "code",
   "execution_count": 20,
   "id": "4309d246",
   "metadata": {},
   "outputs": [
    {
     "name": "stdout",
     "output_type": "stream",
     "text": [
      "(2, 3)\n",
      "\n",
      "(2,)\n",
      "\n",
      "(3,)\n",
      "\n"
     ]
    }
   ],
   "source": [
    "X = np.array([1.0, 0.5])\n",
    "W1 = np.array([[0.1, 0.3, 0.5], [0.2, 0.4, 0.6]])\n",
    "B1 = np.array([0.1, 0.2, 0.3])\n",
    "\n",
    "print(W1.shape); print();\n",
    "print(X.shape); print();\n",
    "print(B1.shape); print();\n",
    "\n",
    "A1 = np.dot(X, W1) + B1"
   ]
  },
  {
   "cell_type": "markdown",
   "id": "2f5abbca",
   "metadata": {},
   "source": [
    "### 입력층에서 1층으로의 신호 전달"
   ]
  },
  {
   "cell_type": "code",
   "execution_count": 21,
   "id": "37eac175",
   "metadata": {},
   "outputs": [
    {
     "name": "stdout",
     "output_type": "stream",
     "text": [
      "[0.3 0.7 1.1]\n",
      "\n",
      "[0.57444252 0.66818777 0.75026011]\n"
     ]
    }
   ],
   "source": [
    "Z1 = sigmoid(A1)\n",
    "\n",
    "print(A1); print();\n",
    "print(Z1)"
   ]
  },
  {
   "cell_type": "markdown",
   "id": "93982ab5",
   "metadata": {},
   "source": [
    "### 1층에서 2층으로의 신호 전달"
   ]
  },
  {
   "cell_type": "code",
   "execution_count": 23,
   "id": "c4fbf61f",
   "metadata": {},
   "outputs": [
    {
     "name": "stdout",
     "output_type": "stream",
     "text": [
      "(3,)\n",
      "\n",
      "(3, 2)\n",
      "\n",
      "(2,)\n",
      "\n"
     ]
    }
   ],
   "source": [
    "W2 = np.array([[0.1, 0.4], [0.2, 0.5], [0.3, 0.6]])\n",
    "B2 = np.array([0.1, 0.2])\n",
    "\n",
    "print(Z1.shape); print();\n",
    "print(W2.shape); print();\n",
    "print(B2.shape); print();\n",
    "\n",
    "A2 = np.dot(Z1, W2) + B2\n",
    "Z2 = sigmoid(A2)"
   ]
  },
  {
   "cell_type": "markdown",
   "id": "a8206861",
   "metadata": {},
   "source": [
    "### 2층에서 출력층으로의 신호 전달"
   ]
  },
  {
   "cell_type": "code",
   "execution_count": 24,
   "id": "0fc170b1",
   "metadata": {},
   "outputs": [],
   "source": [
    "def identity_function(x):\n",
    "    return x\n",
    "\n",
    "W3 = np.array([[0.1, 0.3], [0.2, 0.4]])\n",
    "B3 = np.array([0.1, 0.2])\n",
    "\n",
    "A3 = np.dot(Z2, W3) + B3\n",
    "Y = identity_function(A3) # 혹은 Y = A3"
   ]
  },
  {
   "cell_type": "markdown",
   "id": "92826406",
   "metadata": {},
   "source": [
    "### 구현 정리"
   ]
  },
  {
   "cell_type": "code",
   "execution_count": 25,
   "id": "0af90f94",
   "metadata": {},
   "outputs": [
    {
     "name": "stdout",
     "output_type": "stream",
     "text": [
      "[0.31442506 0.69147506]\n"
     ]
    }
   ],
   "source": [
    "def init_network():\n",
    "    network = {}\n",
    "    network['W1'] = np.array([[0.1, 0.3, 0.5], [0.2, 0.4, 0.6]])\n",
    "    network['b1'] = np.array([0.1, 0.2, 0.3])\n",
    "    network['W2'] = np.array([[0.1, 0.4], [0.2, 0.4], [0.3, 0.6]])\n",
    "    network['b2'] = np.array([0.1, 0.2])\n",
    "    network['W3'] = np.array([[0.1, 0.3], [0.2, 0.4]])\n",
    "    network['b3'] = np.array([0.1, 0.2])\n",
    "\n",
    "    return network\n",
    "\n",
    "def forward(network, x):\n",
    "    W1, W2, W3 = network['W1'], network['W2'], network['W3']\n",
    "    b1, b2, b3 = network['b1'], network['b2'], network['b3']\n",
    "\n",
    "    a1 = np.dot(x, W1) + b1\n",
    "    z1 = sigmoid(a1)\n",
    "    a2 = np.dot(z1, W2) + b2\n",
    "    z2 = sigmoid(a2)\n",
    "    a3 = np.dot(z2, W3) + b3\n",
    "    y = identity_function(a3)\n",
    "\n",
    "    return y\n",
    "\n",
    "network = init_network()\n",
    "x = np.array([1.0, 0.5])\n",
    "y = forward(network, x)\n",
    "print(y)"
   ]
  },
  {
   "cell_type": "markdown",
   "id": "ad985c5a",
   "metadata": {},
   "source": [
    "## 출력층 설계하기"
   ]
  },
  {
   "cell_type": "markdown",
   "id": "2a94b7e5",
   "metadata": {},
   "source": [
    "### 항등 함수와 소프트맥스 함수 구현하기"
   ]
  },
  {
   "cell_type": "markdown",
   "id": "90690f9c",
   "metadata": {},
   "source": [
    "소프트맥스 함수의 결과를 하나씩 확인해보기"
   ]
  },
  {
   "cell_type": "code",
   "execution_count": 26,
   "id": "291b45bb",
   "metadata": {},
   "outputs": [
    {
     "name": "stdout",
     "output_type": "stream",
     "text": [
      "[ 1.34985881 18.17414537 54.59815003]\n",
      "\n",
      "74.1221542101633\n",
      "\n",
      "[0.01821127 0.24519181 0.73659691]\n"
     ]
    }
   ],
   "source": [
    "a = np.array([0.3, 2.9, 4.0])\n",
    "\n",
    "exp_a = np.exp(a) # 지수 함수\n",
    "print(exp_a); print();\n",
    "\n",
    "sum_exp_a = np.sum(exp_a) # 지수 함수의 합\n",
    "print(sum_exp_a); print();\n",
    "\n",
    "y = exp_a / sum_exp_a\n",
    "print(y)"
   ]
  },
  {
   "cell_type": "markdown",
   "id": "1739d239",
   "metadata": {},
   "source": [
    "소프트맥스를 파이썬 함수로 정의하기"
   ]
  },
  {
   "cell_type": "code",
   "execution_count": 27,
   "id": "852b3e7b",
   "metadata": {},
   "outputs": [],
   "source": [
    "def sotfmax(a):\n",
    "    exp_a = np.exp(a)\n",
    "    sum_exp_a = np.sum(exp_a)\n",
    "    y = exp_a / sum_exp_a\n",
    "\n",
    "    return y"
   ]
  },
  {
   "cell_type": "markdown",
   "id": "fdb1072a",
   "metadata": {},
   "source": [
    "### 소프트맥스 함수 구현 시 주의점"
   ]
  },
  {
   "cell_type": "code",
   "execution_count": 29,
   "id": "9af77024",
   "metadata": {},
   "outputs": [
    {
     "name": "stdout",
     "output_type": "stream",
     "text": [
      "[nan nan nan]\n",
      "\n",
      "[  0 -10 -20]\n",
      "\n",
      "[9.99954600e-01 4.53978686e-05 2.06106005e-09]\n"
     ]
    },
    {
     "name": "stderr",
     "output_type": "stream",
     "text": [
      "C:\\Users\\park_\\AppData\\Local\\Temp/ipykernel_17020/3515230115.py:3: RuntimeWarning: overflow encountered in exp\n",
      "  print(np.exp(a) / np.sum(np.exp(a))) # 소프트맥스 함수의 계산\n",
      "C:\\Users\\park_\\AppData\\Local\\Temp/ipykernel_17020/3515230115.py:3: RuntimeWarning: invalid value encountered in true_divide\n",
      "  print(np.exp(a) / np.sum(np.exp(a))) # 소프트맥스 함수의 계산\n"
     ]
    }
   ],
   "source": [
    "a = np.array([1010, 1000, 990])\n",
    "\n",
    "print(np.exp(a) / np.sum(np.exp(a))) # 소프트맥스 함수의 계산\n",
    "# 모두 nan이 출력됨. 참고로 nan은 not a number의 약자임\n",
    "print() \n",
    "\n",
    "c = np.max(a) # c = 1010(최댓값)\n",
    "print(a - c); print();\n",
    "\n",
    "print(np.exp(a -  c) / np.sum(np.exp(a - c)))"
   ]
  },
  {
   "cell_type": "markdown",
   "id": "c7cc95b9",
   "metadata": {},
   "source": [
    "소프트맥스 함수의 특징\n",
    "소프트맥스 함수의 출력은 0에서 1.0 사이의 실수이다.\n",
    "또한 소프트맥스 함수 출력의 총합은 1이다.\n",
    "출력 총합이 1이 된다는 점은 소프트맥스 함수의 중요한 성질이다.\n",
    "이 성질 덕분에 소프트맥스 함수의 출력을 '확률'로 해석할 수 있다.\n",
    "즉, 소프트맥스 함수를 이용함으로써 문제를 확률적(통계적)으로 대응할 수 있게 되는 것이다.\n",
    "\n",
    "주의할 점으로, 소프트맥스 함수를 적용해도 각 원소의 대소 관계는 변하지 않는다는 것이다. 이는 지수 함수 y = exp(x)가 단조 증가하기 때문이다."
   ]
  },
  {
   "cell_type": "markdown",
   "id": "2b98d310",
   "metadata": {},
   "source": [
    "## 손글씨 숫자 인식"
   ]
  },
  {
   "cell_type": "markdown",
   "id": "09ede4f7",
   "metadata": {},
   "source": [
    "### MNIST 데이터셋\n",
    "MNIST 데이터셋은 0~9까지의 숫자 이미지로 구성됨.\n",
    "훈련 이미지가 60000장, 시험 이미지가 10000장 준비되어 있음.\n",
    "MNIST의 이미지 데이터는 28 * 28 크기의 회색조 이미지(1채널)이며, 각 픽셀은 0에서 255까지의 값을 취한다.\n",
    "\n",
    "참고로 여기 학습 관련 책 코드는 조금 애매모호한 부분이 있으므로 \"https://velog.io/@tmddn0311/mnist-classification\"를 참고하여 MNIST 학습을 진행한다."
   ]
  },
  {
   "cell_type": "code",
   "execution_count": 32,
   "id": "e84e8577",
   "metadata": {},
   "outputs": [],
   "source": [
    "import sys, os\n",
    "sys.path.append(os.pardir) # 부모 디렉터리의 파일을 가져올 수 있도록 설정\n",
    "from dataset.mnist import load_mnist"
   ]
  },
  {
   "cell_type": "markdown",
   "id": "91a6d85e",
   "metadata": {},
   "source": [
    "mnist.load_data() 함수는 읽은 MNIST 데이터를 \"(훈련 이미지, 훈련 레이블), (시험 이미지, 시험 레이블)\" 형식으로 반환한다."
   ]
  },
  {
   "cell_type": "code",
   "execution_count": 33,
   "id": "0994abb6",
   "metadata": {},
   "outputs": [
    {
     "name": "stdout",
     "output_type": "stream",
     "text": [
      "Downloading train-images-idx3-ubyte.gz ... \n",
      "Done\n",
      "Downloading train-labels-idx1-ubyte.gz ... \n",
      "Done\n",
      "Downloading t10k-images-idx3-ubyte.gz ... \n",
      "Done\n",
      "Downloading t10k-labels-idx1-ubyte.gz ... \n",
      "Done\n",
      "Converting train-images-idx3-ubyte.gz to NumPy Array ...\n",
      "Done\n",
      "Converting train-labels-idx1-ubyte.gz to NumPy Array ...\n",
      "Done\n",
      "Converting t10k-images-idx3-ubyte.gz to NumPy Array ...\n",
      "Done\n",
      "Converting t10k-labels-idx1-ubyte.gz to NumPy Array ...\n",
      "Done\n",
      "Creating pickle file ...\n",
      "Done!\n"
     ]
    }
   ],
   "source": [
    "# 데이터 불러오기\n",
    "(x_train, t_train), (x_test, t_test) = load_mnist(flatten=True, normalize=False)"
   ]
  },
  {
   "cell_type": "code",
   "execution_count": 34,
   "id": "ad3f0e03",
   "metadata": {},
   "outputs": [
    {
     "name": "stdout",
     "output_type": "stream",
     "text": [
      "(60000, 784)\n",
      "(60000,)\n",
      "(10000, 784)\n",
      "(10000,)\n"
     ]
    }
   ],
   "source": [
    "# 각 데이터의 형상 출력\n",
    "print(x_train.shape)\n",
    "print(t_train.shape)\n",
    "print(x_test.shape)\n",
    "print(t_test.shape)"
   ]
  },
  {
   "cell_type": "markdown",
   "id": "1ff09560",
   "metadata": {},
   "source": [
    "인수로는 normalize, flatten, one_hot_label 세 가지를 설정할 수 있으며, 세 인수 모두 bool 값이다.\n",
    "\n",
    "첫 번째 인수인 nomalize는 입력 이미지의 픽셀값을 0.0 ~ 1.0 사이의 값으로 정규화할지를 정한다.\n",
    "False로 설정하면 입력 이미지의 픽셀은 원래 값 그대로 0~255 사이의 값을 유지한다.\n",
    "\n",
    "두 번째 인수인 flatten은 입력 이미지를 평탄하게, 즉 1차원 배열로 만들지를 정한다.\n",
    "False로 설정하면 입력 이미지를 1 * 28 * 28의 3차원 배열로, True로 설정하면 784개의 원소로 이뤄진 1차원 배열로 저장한다.\n",
    "\n",
    "세 번째 인수인 one_hot+label은 레이블을 원-핫 인코딩 형태로 저장할지를 정한다.\n",
    "원-핫 인코딩이란, 예를 들어 [0,0,1,0,0,0,0,0,0,0]처럼 정답을 뜻하는 원소만 1이고(hot)하고 나머지는 모두 0인 배열이다.\n",
    "one_hot_label이 False이면 '7'이나 '2'와 같이 숫자 형태의 레이블을 저장하고, True일 때는 레이블을 원-핫 인코딩하여 저장한다."
   ]
  },
  {
   "cell_type": "code",
   "execution_count": 63,
   "id": "2f72b7ff",
   "metadata": {},
   "outputs": [
    {
     "name": "stdout",
     "output_type": "stream",
     "text": [
      "5\n",
      "(784,)\n",
      "(28, 28)\n"
     ]
    }
   ],
   "source": [
    "# coding: utf-8\n",
    "import sys, os\n",
    "sys.path.append(os.pardir)  # 부모 디렉터리의 파일을 가져올 수 있도록 설정\n",
    "import numpy as np\n",
    "from dataset.mnist import load_mnist\n",
    "from PIL import Image\n",
    "\n",
    "\n",
    "def img_show(img):\n",
    "    pil_img = Image.fromarray(np.uint8(img))\n",
    "    pil_img.show()\n",
    "\n",
    "(x_train, t_train), (x_test, t_test) = load_mnist(flatten=True, normalize=False)\n",
    "\n",
    "img = x_train[0]\n",
    "label = t_train[0]\n",
    "print(label)  # 5\n",
    "\n",
    "print(img.shape)  # (784,)\n",
    "img = img.reshape(28, 28)  # 형상을 원래 이미지의 크기로 변형\n",
    "print(img.shape)  # (28, 28)\n",
    "\n",
    "img_show(img) # 이것은 이미지 파일이 화면이 뜨게 됨\n",
    "\n",
    "(x_train, t_train), (x_test, t_test) = load_mnist(flatten=True, normalize=False)"
   ]
  },
  {
   "cell_type": "markdown",
   "id": "d9b615a9",
   "metadata": {},
   "source": [
    "### 신경망의 추론 처리\n",
    "이 신경망은 입력층 뉴런을 784개, 출력층 뉴런을 10개로 구성한다. 입령층 뉴런이 7874개인 이유는 이미지 크기가 28 * 28 = 784이기 때문이고, 출력층 뉴런이 10개인 이유는 이 문제가 0~9까지의 숫자를 구분하는 문제이기 때문이다.\n",
    "\n",
    "한편, 은닉층은 총 두 개로, 첫 번째 은닉층에는 50개의 뉴런을, 두 번째 은닉층에는 100개의 뉴런을 배치할 것이다. 여기서 50과 100은 임의로 정한 값이다.\n",
    "\n",
    "차례대로 작업을 처리해줄 세 함수인 get_data(), init_network(), predice()를 정의한다."
   ]
  },
  {
   "cell_type": "code",
   "execution_count": 66,
   "id": "1b4b45c1",
   "metadata": {},
   "outputs": [],
   "source": [
    "import sys, os\n",
    "import pickle\n",
    "import numpy as np\n",
    "\n",
    "def sigmoid(x):\n",
    "    return 1/(1 + np.exp(-x))\n",
    "\n",
    "def softmax(a):\n",
    "    c = np.max(a)\n",
    "    exp_a = np.exp(a-c)\n",
    "    sum_exp_a = np.sum(exp_a)\n",
    "    y = exp_a/sum_exp_a\n",
    "\n",
    "    return y\n",
    "\n",
    "def get_data():\n",
    "    (x_train, t_train), (x_test, t_test) = load_mnist(normalize=True, \n",
    "                                                      flatten=True, one_hot_label=False)\n",
    "    return x_test, t_test\n",
    "\n",
    "def init_network():\n",
    "    with open(\"sample_weight.pkl\", 'rb') as f:\n",
    "        network = pickle.load(f)\n",
    "    return network\n",
    "\n",
    "def predict(network, x):\n",
    "    W1, W2, W3 = network['W1'], network['W2'], network['W3']\n",
    "    b1, b2, b3 = network['b1'], network['b2'], network['b3']\n",
    "    a1 = np.dot(x, W1)+b1\n",
    "    z1 = sigmoid(a1)\n",
    "    \n",
    "    a2 = np.dot(z1, W2)+b2\n",
    "    z2 = sigmoid(a2)\n",
    "    \n",
    "    a3 = np.dot(z2, W3)+b3\n",
    "    z3 = softmax(a3)\n",
    "    return y"
   ]
  },
  {
   "cell_type": "markdown",
   "id": "a9df07f8",
   "metadata": {},
   "source": [
    "init_network()에서는 pickle 파일인 sample_weight.pkl에 저장된 '학습된 가중치 매개변수'를 읽는다.\n",
    "이 파일에는 가중치와 편향 매개변수가 딕셔너리 변수로 저장되어 있다.\n",
    "\n",
    "아래 블록 코드는 세 함수를 사용해 신경망에 의한 추론을 수행해보고, 정확도도 평가해본다."
   ]
  },
  {
   "cell_type": "code",
   "execution_count": 67,
   "id": "2173f366",
   "metadata": {},
   "outputs": [
    {
     "name": "stdout",
     "output_type": "stream",
     "text": [
      "Accuracy:0.1032\n"
     ]
    }
   ],
   "source": [
    "x, t = get_data()\n",
    "network = init_network()\n",
    "accuracy_cnt = 0\n",
    "\n",
    "for i in range(len(x)):\n",
    "    y = predict(network, x[i])\n",
    "    p= np.argmax(y) # 확률이 가장 높은 원소의 인덱스를 얻는다.\n",
    "    if p == t[i]:\n",
    "        accuracy_cnt += 1\n",
    "\n",
    "print(\"Accuracy:\" + str(float(accuracy_cnt) / len(x)))"
   ]
  },
  {
   "cell_type": "markdown",
   "id": "8a84fa87",
   "metadata": {},
   "source": [
    "### 배치 처리\n",
    "신경망 각 층의 가중치 형상 출력해보기\n",
    "\n",
    "\n",
    "아래 코드 블록의 결과를 통해 다차원 배열의 대응하는 차원의 원소 수가 일치함을 확인할 수 있다."
   ]
  },
  {
   "cell_type": "code",
   "execution_count": 54,
   "id": "79b541db",
   "metadata": {},
   "outputs": [
    {
     "name": "stdout",
     "output_type": "stream",
     "text": [
      "(10000, 784)\n",
      "(784,)\n",
      "(784, 50)\n",
      "(50, 100)\n",
      "(100, 10)\n"
     ]
    }
   ],
   "source": [
    "x,  _ = get_data()\n",
    "network = init_network()\n",
    "W1, W2, W3 = network['W1'], network['W2'], network['W3']\n",
    "\n",
    "print(x.shape)\n",
    "print(x[0].shape)\n",
    "print(W1.shape)\n",
    "print(W2.shape)\n",
    "print(W3.shape)"
   ]
  },
  {
   "cell_type": "markdown",
   "id": "f2637702",
   "metadata": {},
   "source": [
    "### 배치 처리 구현하기"
   ]
  },
  {
   "cell_type": "code",
   "execution_count": 69,
   "id": "b5087d06",
   "metadata": {},
   "outputs": [
    {
     "name": "stdout",
     "output_type": "stream",
     "text": [
      "Accuracy:0.1032\n"
     ]
    }
   ],
   "source": [
    "x, t = get_data()\n",
    "network = init_network()\n",
    "\n",
    "batch_size = 100 # 배치 크기\n",
    "accuracy_cnt = 0\n",
    "\n",
    "for i in range(0, len(x), batch_size):\n",
    "    x_batch = x[i:i+batch_size]\n",
    "    y_batch = predict(network, x_batch)\n",
    "    p = np.argmax(y) #확률이 가장 높은 원소의 인덱스를 얻는다.\n",
    "    accuracy_cnt += np.sum(p == t[i:i+batch_size])\n",
    "\n",
    "print(\"Accuracy:\" + str(float(accuracy_cnt) / len(x)))"
   ]
  }
 ],
 "metadata": {
  "kernelspec": {
   "display_name": "Python 3 (ipykernel)",
   "language": "python",
   "name": "python3"
  },
  "language_info": {
   "codemirror_mode": {
    "name": "ipython",
    "version": 3
   },
   "file_extension": ".py",
   "mimetype": "text/x-python",
   "name": "python",
   "nbconvert_exporter": "python",
   "pygments_lexer": "ipython3",
   "version": "3.8.12"
  }
 },
 "nbformat": 4,
 "nbformat_minor": 5
}
